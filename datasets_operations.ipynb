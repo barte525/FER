{
 "cells": [
  {
   "cell_type": "code",
   "execution_count": null,
   "id": "2e17773d-76fe-4efd-a24e-9163bcfe4751",
   "metadata": {},
   "outputs": [],
   "source": [
    "# Augmentation with tensorflow: \n",
    "from tensorflow.keras.models import Sequential\n",
    "import keras\n",
    "import tensorflow as tf\n",
    "\n",
    "total_images = 0\n",
    "for batch in train_data:\n",
    "    total_images += batch[0].shape[0] \n",
    "print(total_images)\n",
    "\n",
    "AUTOTUNE = tf.data.AUTOTUNE\n",
    "\n",
    "data_augmentation = Sequential([\n",
    "    keras.layers.RandomTranslation(height_factor=0.2,width_factor=0.2),\n",
    "    keras.layers.RandomRotation(0.15),\n",
    "    keras.layers.RandomFlip(mode='horizontal'),\n",
    "])\n",
    "\n",
    "train_data = train_data.map(lambda x, y: (data_augmentation(x), y), num_parallel_calls=AUTOTUNE)\n",
    "train_data = train_data.prefetch(buffer_size=AUTOTUNE)\n",
    "\n",
    "total_images = 0\n",
    "for batch in train_data:\n",
    "    total_images += batch[0].shape[0] \n",
    "print(total_images)\n"
   ]
  },
  {
   "cell_type": "code",
   "execution_count": null,
   "outputs": [],
   "source": [
    "import Augmentor\n",
    "from config import DIR_NAMES\n",
    "\n",
    "emotion = 'disgust'\n",
    "p = Augmentor.Pipeline(f'{DIR_NAMES[\"TEST_DIR\"]}/{emotion}', output_directory=f'../../{DIR_NAMES[\"AUG_DIR\"]}/{emotion}')\n",
    "#p.random_distortion(probability=0.5, grid_height=16, grid_width=16, magnitude=8)\n",
    "p.flip_top_bottom(probability=0.5)\n",
    "p.sample(100)"
   ],
   "metadata": {
    "collapsed": false
   },
   "id": "ca56a593e140985d"
  },
  {
   "cell_type": "code",
   "execution_count": null,
   "outputs": [],
   "source": [
    "import os\n",
    "\n",
    "emotion = 'disgust'\n",
    "files = [os.path.join(f'{DIR_NAMES[\"AUG_DIR\"]}/{emotion}', f) for f in os.listdir(f'{DIR_NAMES[\"AUG_DIR\"]}/{emotion}')]\n",
    "\n",
    "import shutil\n",
    "for file in files:\n",
    "    shutil.copy(file, os.path.join(f'{DIR_NAMES[\"AUG_TRAIN_DIR\"]}/{emotion}', os.path.basename(file)))"
   ],
   "metadata": {
    "collapsed": false
   },
   "id": "71e09da4b2cfa6a6"
  }
 ],
 "metadata": {
  "kernelspec": {
   "display_name": "Python 3 (ipykernel)",
   "language": "python",
   "name": "python3"
  },
  "language_info": {
   "codemirror_mode": {
    "name": "ipython",
    "version": 3
   },
   "file_extension": ".py",
   "mimetype": "text/x-python",
   "name": "python",
   "nbconvert_exporter": "python",
   "pygments_lexer": "ipython3",
   "version": "3.8.10"
  }
 },
 "nbformat": 4,
 "nbformat_minor": 5
}
